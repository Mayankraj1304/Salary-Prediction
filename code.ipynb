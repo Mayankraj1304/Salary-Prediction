{
 "cells": [
  {
   "cell_type": "code",
   "execution_count": 1,
   "metadata": {},
   "outputs": [],
   "source": [
    "import pandas as pd\n",
    "import matplotlib.pyplot as plt\n",
    "import numpy as np\n",
    "data=pd.read_csv(\"dataset.csv\")"
   ]
  },
  {
   "cell_type": "code",
   "execution_count": 2,
   "metadata": {},
   "outputs": [
    {
     "data": {
      "text/html": [
       "<div>\n",
       "<style scoped>\n",
       "    .dataframe tbody tr th:only-of-type {\n",
       "        vertical-align: middle;\n",
       "    }\n",
       "\n",
       "    .dataframe tbody tr th {\n",
       "        vertical-align: top;\n",
       "    }\n",
       "\n",
       "    .dataframe thead th {\n",
       "        text-align: right;\n",
       "    }\n",
       "</style>\n",
       "<table border=\"1\" class=\"dataframe\">\n",
       "  <thead>\n",
       "    <tr style=\"text-align: right;\">\n",
       "      <th></th>\n",
       "      <th>Job Title</th>\n",
       "      <th>Company</th>\n",
       "      <th>Location</th>\n",
       "      <th>Experience Level</th>\n",
       "      <th>Salary</th>\n",
       "      <th>Industry</th>\n",
       "      <th>Required Skills</th>\n",
       "    </tr>\n",
       "  </thead>\n",
       "  <tbody>\n",
       "    <tr>\n",
       "      <th>0</th>\n",
       "      <td>Early years teacher</td>\n",
       "      <td>Richardson Ltd</td>\n",
       "      <td>Sydney</td>\n",
       "      <td>Senior Level</td>\n",
       "      <td>87000.0</td>\n",
       "      <td>Healthcare</td>\n",
       "      <td>Pharmaceuticals</td>\n",
       "    </tr>\n",
       "    <tr>\n",
       "      <th>1</th>\n",
       "      <td>Counselling psychologist</td>\n",
       "      <td>Ramos, Santiago and Stewart</td>\n",
       "      <td>San Francisco</td>\n",
       "      <td>Mid Level</td>\n",
       "      <td>50000.0</td>\n",
       "      <td>Marketing</td>\n",
       "      <td>Google Ads, SEO, Content Writing</td>\n",
       "    </tr>\n",
       "    <tr>\n",
       "      <th>2</th>\n",
       "      <td>Radio broadcast assistant</td>\n",
       "      <td>Franco Group</td>\n",
       "      <td>New York</td>\n",
       "      <td>Mid Level</td>\n",
       "      <td>77000.0</td>\n",
       "      <td>Healthcare</td>\n",
       "      <td>Patient Care, Nursing, Medical Research, Pharm...</td>\n",
       "    </tr>\n",
       "    <tr>\n",
       "      <th>3</th>\n",
       "      <td>Designer, exhibition/display</td>\n",
       "      <td>Collins Inc</td>\n",
       "      <td>Berlin</td>\n",
       "      <td>Senior Level</td>\n",
       "      <td>90000.0</td>\n",
       "      <td>Software</td>\n",
       "      <td>Machine Learning</td>\n",
       "    </tr>\n",
       "    <tr>\n",
       "      <th>4</th>\n",
       "      <td>Psychotherapist, dance movement</td>\n",
       "      <td>Barker Group</td>\n",
       "      <td>Sydney</td>\n",
       "      <td>Entry Level</td>\n",
       "      <td>112000.0</td>\n",
       "      <td>Healthcare</td>\n",
       "      <td>Nursing, Medical Research, Pharmaceuticals</td>\n",
       "    </tr>\n",
       "    <tr>\n",
       "      <th>5</th>\n",
       "      <td>Early years teacher</td>\n",
       "      <td>Dawson-Hudson</td>\n",
       "      <td>Sydney</td>\n",
       "      <td>Mid Level</td>\n",
       "      <td>93000.0</td>\n",
       "      <td>Finance</td>\n",
       "      <td>Financial Modeling, Risk Analysis</td>\n",
       "    </tr>\n",
       "    <tr>\n",
       "      <th>6</th>\n",
       "      <td>Academic librarian</td>\n",
       "      <td>Clark Ltd</td>\n",
       "      <td>London</td>\n",
       "      <td>Entry Level</td>\n",
       "      <td>104000.0</td>\n",
       "      <td>Healthcare</td>\n",
       "      <td>Pharmaceuticals</td>\n",
       "    </tr>\n",
       "    <tr>\n",
       "      <th>7</th>\n",
       "      <td>Quantity surveyor</td>\n",
       "      <td>Dean-Delacruz</td>\n",
       "      <td>Sydney</td>\n",
       "      <td>Entry Level</td>\n",
       "      <td>123000.0</td>\n",
       "      <td>Software</td>\n",
       "      <td>Java, Python</td>\n",
       "    </tr>\n",
       "    <tr>\n",
       "      <th>8</th>\n",
       "      <td>Archaeologist</td>\n",
       "      <td>Williams LLC</td>\n",
       "      <td>New York</td>\n",
       "      <td>Senior Level</td>\n",
       "      <td>102000.0</td>\n",
       "      <td>Finance</td>\n",
       "      <td>Python, SQL, Risk Analysis</td>\n",
       "    </tr>\n",
       "    <tr>\n",
       "      <th>9</th>\n",
       "      <td>Mining engineer</td>\n",
       "      <td>Berg LLC</td>\n",
       "      <td>London</td>\n",
       "      <td>Senior Level</td>\n",
       "      <td>67000.0</td>\n",
       "      <td>Manufacturing</td>\n",
       "      <td>Production Planning</td>\n",
       "    </tr>\n",
       "    <tr>\n",
       "      <th>10</th>\n",
       "      <td>Education officer, environmental</td>\n",
       "      <td>Wallace-Gordon</td>\n",
       "      <td>Berlin</td>\n",
       "      <td>Senior Level</td>\n",
       "      <td>95000.0</td>\n",
       "      <td>Finance</td>\n",
       "      <td>Risk Analysis, SQL, Financial Modeling</td>\n",
       "    </tr>\n",
       "    <tr>\n",
       "      <th>11</th>\n",
       "      <td>Brewing technologist</td>\n",
       "      <td>Young-Cabrera</td>\n",
       "      <td>Sydney</td>\n",
       "      <td>Senior Level</td>\n",
       "      <td>83000.0</td>\n",
       "      <td>Finance</td>\n",
       "      <td>Financial Modeling, SQL, Excel, Python</td>\n",
       "    </tr>\n",
       "    <tr>\n",
       "      <th>12</th>\n",
       "      <td>Newspaper journalist</td>\n",
       "      <td>Cabrera Ltd</td>\n",
       "      <td>Berlin</td>\n",
       "      <td>Entry Level</td>\n",
       "      <td>79000.0</td>\n",
       "      <td>Marketing</td>\n",
       "      <td>Social Media, Content Writing, SEO</td>\n",
       "    </tr>\n",
       "    <tr>\n",
       "      <th>13</th>\n",
       "      <td>Chief Technology Officer</td>\n",
       "      <td>Watson, Smith and Myers</td>\n",
       "      <td>San Francisco</td>\n",
       "      <td>Entry Level</td>\n",
       "      <td>149000.0</td>\n",
       "      <td>Retail</td>\n",
       "      <td>Sales, Merchandising, Customer Service</td>\n",
       "    </tr>\n",
       "    <tr>\n",
       "      <th>14</th>\n",
       "      <td>Accommodation manager</td>\n",
       "      <td>Phillips-Velasquez</td>\n",
       "      <td>London</td>\n",
       "      <td>Mid Level</td>\n",
       "      <td>103000.0</td>\n",
       "      <td>Manufacturing</td>\n",
       "      <td>Supply Chain, Quality Control, Production Plan...</td>\n",
       "    </tr>\n",
       "    <tr>\n",
       "      <th>15</th>\n",
       "      <td>Management consultant</td>\n",
       "      <td>Morris Ltd</td>\n",
       "      <td>Bangalore</td>\n",
       "      <td>Entry Level</td>\n",
       "      <td>78000.0</td>\n",
       "      <td>Manufacturing</td>\n",
       "      <td>Quality Control, Production Planning</td>\n",
       "    </tr>\n",
       "    <tr>\n",
       "      <th>16</th>\n",
       "      <td>Animator</td>\n",
       "      <td>Brewer-Edwards</td>\n",
       "      <td>New York</td>\n",
       "      <td>Entry Level</td>\n",
       "      <td>65000.0</td>\n",
       "      <td>Finance</td>\n",
       "      <td>Excel</td>\n",
       "    </tr>\n",
       "    <tr>\n",
       "      <th>17</th>\n",
       "      <td>Fitness centre manager</td>\n",
       "      <td>Kent-Richardson</td>\n",
       "      <td>Bangalore</td>\n",
       "      <td>Senior Level</td>\n",
       "      <td>120000.0</td>\n",
       "      <td>Software</td>\n",
       "      <td>Java, Python, C++</td>\n",
       "    </tr>\n",
       "    <tr>\n",
       "      <th>18</th>\n",
       "      <td>Games developer</td>\n",
       "      <td>Roth, Robinson and Burton</td>\n",
       "      <td>Bangalore</td>\n",
       "      <td>Senior Level</td>\n",
       "      <td>99000.0</td>\n",
       "      <td>Finance</td>\n",
       "      <td>Risk Analysis</td>\n",
       "    </tr>\n",
       "    <tr>\n",
       "      <th>19</th>\n",
       "      <td>Race relations officer</td>\n",
       "      <td>Erickson-Ortiz</td>\n",
       "      <td>Sydney</td>\n",
       "      <td>Entry Level</td>\n",
       "      <td>49000.0</td>\n",
       "      <td>Finance</td>\n",
       "      <td>SQL, Excel, Python</td>\n",
       "    </tr>\n",
       "  </tbody>\n",
       "</table>\n",
       "</div>"
      ],
      "text/plain": [
       "                           Job Title                      Company  \\\n",
       "0                Early years teacher               Richardson Ltd   \n",
       "1           Counselling psychologist  Ramos, Santiago and Stewart   \n",
       "2          Radio broadcast assistant                 Franco Group   \n",
       "3       Designer, exhibition/display                  Collins Inc   \n",
       "4    Psychotherapist, dance movement                 Barker Group   \n",
       "5                Early years teacher                Dawson-Hudson   \n",
       "6                 Academic librarian                    Clark Ltd   \n",
       "7                  Quantity surveyor                Dean-Delacruz   \n",
       "8                      Archaeologist                 Williams LLC   \n",
       "9                    Mining engineer                     Berg LLC   \n",
       "10  Education officer, environmental               Wallace-Gordon   \n",
       "11              Brewing technologist                Young-Cabrera   \n",
       "12              Newspaper journalist                  Cabrera Ltd   \n",
       "13          Chief Technology Officer      Watson, Smith and Myers   \n",
       "14             Accommodation manager           Phillips-Velasquez   \n",
       "15             Management consultant                   Morris Ltd   \n",
       "16                          Animator               Brewer-Edwards   \n",
       "17            Fitness centre manager              Kent-Richardson   \n",
       "18                   Games developer    Roth, Robinson and Burton   \n",
       "19            Race relations officer               Erickson-Ortiz   \n",
       "\n",
       "         Location Experience Level    Salary       Industry  \\\n",
       "0          Sydney     Senior Level   87000.0     Healthcare   \n",
       "1   San Francisco        Mid Level   50000.0      Marketing   \n",
       "2        New York        Mid Level   77000.0     Healthcare   \n",
       "3          Berlin     Senior Level   90000.0       Software   \n",
       "4          Sydney      Entry Level  112000.0     Healthcare   \n",
       "5          Sydney        Mid Level   93000.0        Finance   \n",
       "6          London      Entry Level  104000.0     Healthcare   \n",
       "7          Sydney      Entry Level  123000.0       Software   \n",
       "8        New York     Senior Level  102000.0        Finance   \n",
       "9          London     Senior Level   67000.0  Manufacturing   \n",
       "10         Berlin     Senior Level   95000.0        Finance   \n",
       "11         Sydney     Senior Level   83000.0        Finance   \n",
       "12         Berlin      Entry Level   79000.0      Marketing   \n",
       "13  San Francisco      Entry Level  149000.0         Retail   \n",
       "14         London        Mid Level  103000.0  Manufacturing   \n",
       "15      Bangalore      Entry Level   78000.0  Manufacturing   \n",
       "16       New York      Entry Level   65000.0        Finance   \n",
       "17      Bangalore     Senior Level  120000.0       Software   \n",
       "18      Bangalore     Senior Level   99000.0        Finance   \n",
       "19         Sydney      Entry Level   49000.0        Finance   \n",
       "\n",
       "                                      Required Skills  \n",
       "0                                     Pharmaceuticals  \n",
       "1                    Google Ads, SEO, Content Writing  \n",
       "2   Patient Care, Nursing, Medical Research, Pharm...  \n",
       "3                                    Machine Learning  \n",
       "4          Nursing, Medical Research, Pharmaceuticals  \n",
       "5                   Financial Modeling, Risk Analysis  \n",
       "6                                     Pharmaceuticals  \n",
       "7                                        Java, Python  \n",
       "8                          Python, SQL, Risk Analysis  \n",
       "9                                 Production Planning  \n",
       "10             Risk Analysis, SQL, Financial Modeling  \n",
       "11             Financial Modeling, SQL, Excel, Python  \n",
       "12                 Social Media, Content Writing, SEO  \n",
       "13             Sales, Merchandising, Customer Service  \n",
       "14  Supply Chain, Quality Control, Production Plan...  \n",
       "15               Quality Control, Production Planning  \n",
       "16                                              Excel  \n",
       "17                                  Java, Python, C++  \n",
       "18                                      Risk Analysis  \n",
       "19                                 SQL, Excel, Python  "
      ]
     },
     "execution_count": 2,
     "metadata": {},
     "output_type": "execute_result"
    }
   ],
   "source": [
    "data.head(20)"
   ]
  },
  {
   "cell_type": "code",
   "execution_count": 3,
   "metadata": {},
   "outputs": [
    {
     "data": {
      "text/plain": [
       "{'whiskers': [<matplotlib.lines.Line2D at 0x21aa4aea270>,\n",
       "  <matplotlib.lines.Line2D at 0x21aa4a9fc20>],\n",
       " 'caps': [<matplotlib.lines.Line2D at 0x21aa4aea6f0>,\n",
       "  <matplotlib.lines.Line2D at 0x21aa4aea9f0>],\n",
       " 'boxes': [<matplotlib.lines.Line2D at 0x21aa4aea030>],\n",
       " 'medians': [<matplotlib.lines.Line2D at 0x21aa4aeacc0>],\n",
       " 'fliers': [<matplotlib.lines.Line2D at 0x21aa4aeaf90>],\n",
       " 'means': []}"
      ]
     },
     "execution_count": 3,
     "metadata": {},
     "output_type": "execute_result"
    },
    {
     "data": {
      "image/png": "[encoded data removed]",
      "text/plain": [
       "<Figure size 640x480 with 1 Axes>"
      ]
     },
     "metadata": {},
     "output_type": "display_data"
    }
   ],
   "source": [
    "plt.boxplot(data['Salary'])"
   ]
  },
  {
   "cell_type": "code",
   "execution_count": 4,
   "metadata": {},
   "outputs": [
    {
     "data": {
      "text/plain": [
       "array(['Pharmaceuticals', 'Google Ads, SEO, Content Writing',\n",
       "       'Patient Care, Nursing, Medical Research, Pharmaceuticals', ...,\n",
       "       'React, C++, Java, Machine Learning', 'Python, Java, React, AWS',\n",
       "       'Machine Learning, Python, C++, AWS'], dtype=object)"
      ]
     },
     "execution_count": 4,
     "metadata": {},
     "output_type": "execute_result"
    }
   ],
   "source": [
    "data['Required Skills'].unique()\n"
   ]
  },
  {
   "cell_type": "code",
   "execution_count": 5,
   "metadata": {},
   "outputs": [],
   "source": [
    "data = pd.get_dummies(data, columns=['Location','Industry'], drop_first=True)"
   ]
  },
  {
   "cell_type": "code",
   "execution_count": 6,
   "metadata": {},
   "outputs": [
    {
     "name": "stdout",
     "output_type": "stream",
     "text": [
      "<class 'pandas.core.frame.DataFrame'>\n",
      "RangeIndex: 50000 entries, 0 to 49999\n",
      "Data columns (total 17 columns):\n",
      " #   Column                  Non-Null Count  Dtype  \n",
      "---  ------                  --------------  -----  \n",
      " 0   Job Title               50000 non-null  object \n",
      " 1   Company                 50000 non-null  object \n",
      " 2   Experience Level        50000 non-null  object \n",
      " 3   Salary                  50000 non-null  float64\n",
      " 4   Required Skills         50000 non-null  object \n",
      " 5   Location_Berlin         50000 non-null  bool   \n",
      " 6   Location_London         50000 non-null  bool   \n",
      " 7   Location_New York       50000 non-null  bool   \n",
      " 8   Location_San Francisco  50000 non-null  bool   \n",
      " 9   Location_Sydney         50000 non-null  bool   \n",
      " 10  Location_Toronto        50000 non-null  bool   \n",
      " 11  Industry_Finance        50000 non-null  bool   \n",
      " 12  Industry_Healthcare     50000 non-null  bool   \n",
      " 13  Industry_Manufacturing  50000 non-null  bool   \n",
      " 14  Industry_Marketing      50000 non-null  bool   \n",
      " 15  Industry_Retail         50000 non-null  bool   \n",
      " 16  Industry_Software       50000 non-null  bool   \n",
      "dtypes: bool(12), float64(1), object(4)\n",
      "memory usage: 2.5+ MB\n"
     ]
    }
   ],
   "source": [
    "data.info()"
   ]
  },
  {
   "cell_type": "code",
   "execution_count": 7,
   "metadata": {},
   "outputs": [],
   "source": [
    "data.drop(columns='Job Title',inplace=True)"
   ]
  },
  {
   "cell_type": "code",
   "execution_count": 8,
   "metadata": {},
   "outputs": [
    {
     "name": "stdout",
     "output_type": "stream",
     "text": [
      "<class 'pandas.core.frame.DataFrame'>\n",
      "RangeIndex: 50000 entries, 0 to 49999\n",
      "Data columns (total 16 columns):\n",
      " #   Column                  Non-Null Count  Dtype  \n",
      "---  ------                  --------------  -----  \n",
      " 0   Company                 50000 non-null  object \n",
      " 1   Experience Level        50000 non-null  object \n",
      " 2   Salary                  50000 non-null  float64\n",
      " 3   Required Skills         50000 non-null  object \n",
      " 4   Location_Berlin         50000 non-null  bool   \n",
      " 5   Location_London         50000 non-null  bool   \n",
      " 6   Location_New York       50000 non-null  bool   \n",
      " 7   Location_San Francisco  50000 non-null  bool   \n",
      " 8   Location_Sydney         50000 non-null  bool   \n",
      " 9   Location_Toronto        50000 non-null  bool   \n",
      " 10  Industry_Finance        50000 non-null  bool   \n",
      " 11  Industry_Healthcare     50000 non-null  bool   \n",
      " 12  Industry_Manufacturing  50000 non-null  bool   \n",
      " 13  Industry_Marketing      50000 non-null  bool   \n",
      " 14  Industry_Retail         50000 non-null  bool   \n",
      " 15  Industry_Software       50000 non-null  bool   \n",
      "dtypes: bool(12), float64(1), object(3)\n",
      "memory usage: 2.1+ MB\n"
     ]
    }
   ],
   "source": [
    "data.info()"
   ]
  },
  {
   "cell_type": "code",
   "execution_count": 9,
   "metadata": {},
   "outputs": [
    {
     "data": {
      "text/plain": [
       "Index(['Company', 'Experience Level', 'Salary', 'Required Skills',\n",
       "       'Location_Berlin', 'Location_London', 'Location_New York',\n",
       "       'Location_San Francisco', 'Location_Sydney', 'Location_Toronto',\n",
       "       'Industry_Finance', 'Industry_Healthcare', 'Industry_Manufacturing',\n",
       "       'Industry_Marketing', 'Industry_Retail', 'Industry_Software'],\n",
       "      dtype='object')"
      ]
     },
     "execution_count": 9,
     "metadata": {},
     "output_type": "execute_result"
    }
   ],
   "source": [
    "data.columns"
   ]
  },
  {
   "cell_type": "code",
   "execution_count": 10,
   "metadata": {},
   "outputs": [],
   "source": [
    "company_table=data.groupby('Company').agg({'Salary' : 'mean'}).sort_values('Salary',ascending=True)\n",
    "skills_table=data.groupby('Required Skills').agg({'Salary' : 'mean'}).sort_values('Salary',ascending=True)"
   ]
  },
  {
   "cell_type": "code",
   "execution_count": 11,
   "metadata": {},
   "outputs": [
    {
     "data": {
      "text/html": [
       "<div>\n",
       "<style scoped>\n",
       "    .dataframe tbody tr th:only-of-type {\n",
       "        vertical-align: middle;\n",
       "    }\n",
       "\n",
       "    .dataframe tbody tr th {\n",
       "        vertical-align: top;\n",
       "    }\n",
       "\n",
       "    .dataframe thead th {\n",
       "        text-align: right;\n",
       "    }\n",
       "</style>\n",
       "<table border=\"1\" class=\"dataframe\">\n",
       "  <thead>\n",
       "    <tr style=\"text-align: right;\">\n",
       "      <th></th>\n",
       "      <th>company_group</th>\n",
       "    </tr>\n",
       "    <tr>\n",
       "      <th>Company</th>\n",
       "      <th></th>\n",
       "    </tr>\n",
       "  </thead>\n",
       "  <tbody>\n",
       "    <tr>\n",
       "      <th>Matthews-Brown</th>\n",
       "      <td>company0</td>\n",
       "    </tr>\n",
       "    <tr>\n",
       "      <th>Ramsey-Adams</th>\n",
       "      <td>company0</td>\n",
       "    </tr>\n",
       "    <tr>\n",
       "      <th>Chambers, Duncan and Ritter</th>\n",
       "      <td>company0</td>\n",
       "    </tr>\n",
       "    <tr>\n",
       "      <th>Burns, Carr and Villanueva</th>\n",
       "      <td>company0</td>\n",
       "    </tr>\n",
       "    <tr>\n",
       "      <th>Jones, Webb and Fisher</th>\n",
       "      <td>company0</td>\n",
       "    </tr>\n",
       "    <tr>\n",
       "      <th>...</th>\n",
       "      <td>...</td>\n",
       "    </tr>\n",
       "    <tr>\n",
       "      <th>Rodriguez-Bailey</th>\n",
       "      <td>company9</td>\n",
       "    </tr>\n",
       "    <tr>\n",
       "      <th>Hammond-Swanson</th>\n",
       "      <td>company9</td>\n",
       "    </tr>\n",
       "    <tr>\n",
       "      <th>Jackson, Wilson and Vasquez</th>\n",
       "      <td>company9</td>\n",
       "    </tr>\n",
       "    <tr>\n",
       "      <th>Schwartz-Powell</th>\n",
       "      <td>company9</td>\n",
       "    </tr>\n",
       "    <tr>\n",
       "      <th>Briggs, Shepard and Andrade</th>\n",
       "      <td>company9</td>\n",
       "    </tr>\n",
       "  </tbody>\n",
       "</table>\n",
       "<p>37022 rows × 1 columns</p>\n",
       "</div>"
      ],
      "text/plain": [
       "                            company_group\n",
       "Company                                  \n",
       "Matthews-Brown                   company0\n",
       "Ramsey-Adams                     company0\n",
       "Chambers, Duncan and Ritter      company0\n",
       "Burns, Carr and Villanueva       company0\n",
       "Jones, Webb and Fisher           company0\n",
       "...                                   ...\n",
       "Rodriguez-Bailey                 company9\n",
       "Hammond-Swanson                  company9\n",
       "Jackson, Wilson and Vasquez      company9\n",
       "Schwartz-Powell                  company9\n",
       "Briggs, Shepard and Andrade      company9\n",
       "\n",
       "[37022 rows x 1 columns]"
      ]
     },
     "execution_count": 11,
     "metadata": {},
     "output_type": "execute_result"
    }
   ],
   "source": [
    "company_table['company_group']=pd.cut(company_table['Salary'],bins=10,labels=['company0','company1','company2','company3','company4','company5','company6','company7','company8','company9'])\n",
    "company_table.drop(columns='Salary')"
   ]
  },
  {
   "cell_type": "code",
   "execution_count": 12,
   "metadata": {},
   "outputs": [
    {
     "data": {
      "text/html": [
       "<div>\n",
       "<style scoped>\n",
       "    .dataframe tbody tr th:only-of-type {\n",
       "        vertical-align: middle;\n",
       "    }\n",
       "\n",
       "    .dataframe tbody tr th {\n",
       "        vertical-align: top;\n",
       "    }\n",
       "\n",
       "    .dataframe thead th {\n",
       "        text-align: right;\n",
       "    }\n",
       "</style>\n",
       "<table border=\"1\" class=\"dataframe\">\n",
       "  <thead>\n",
       "    <tr style=\"text-align: right;\">\n",
       "      <th></th>\n",
       "      <th>skill_group</th>\n",
       "    </tr>\n",
       "    <tr>\n",
       "      <th>Required Skills</th>\n",
       "      <th></th>\n",
       "    </tr>\n",
       "  </thead>\n",
       "  <tbody>\n",
       "    <tr>\n",
       "      <th>SQL, Python, C++, AWS</th>\n",
       "      <td>skill0</td>\n",
       "    </tr>\n",
       "    <tr>\n",
       "      <th>SQL, Python, Java, C++</th>\n",
       "      <td>skill0</td>\n",
       "    </tr>\n",
       "    <tr>\n",
       "      <th>C++, AWS, SQL, Java</th>\n",
       "      <td>skill0</td>\n",
       "    </tr>\n",
       "    <tr>\n",
       "      <th>Java, React, Python, C++</th>\n",
       "      <td>skill0</td>\n",
       "    </tr>\n",
       "    <tr>\n",
       "      <th>SQL, AWS, Machine Learning, Java</th>\n",
       "      <td>skill0</td>\n",
       "    </tr>\n",
       "    <tr>\n",
       "      <th>...</th>\n",
       "      <td>...</td>\n",
       "    </tr>\n",
       "    <tr>\n",
       "      <th>Machine Learning, Java, AWS, SQL</th>\n",
       "      <td>skill9</td>\n",
       "    </tr>\n",
       "    <tr>\n",
       "      <th>Machine Learning, C++, Java, SQL</th>\n",
       "      <td>skill9</td>\n",
       "    </tr>\n",
       "    <tr>\n",
       "      <th>Java, SQL, C++, Python</th>\n",
       "      <td>skill9</td>\n",
       "    </tr>\n",
       "    <tr>\n",
       "      <th>Python, Machine Learning, C++, AWS</th>\n",
       "      <td>skill9</td>\n",
       "    </tr>\n",
       "    <tr>\n",
       "      <th>C++, SQL, Java, React</th>\n",
       "      <td>skill9</td>\n",
       "    </tr>\n",
       "  </tbody>\n",
       "</table>\n",
       "<p>1559 rows × 1 columns</p>\n",
       "</div>"
      ],
      "text/plain": [
       "                                   skill_group\n",
       "Required Skills                               \n",
       "SQL, Python, C++, AWS                   skill0\n",
       "SQL, Python, Java, C++                  skill0\n",
       "C++, AWS, SQL, Java                     skill0\n",
       "Java, React, Python, C++                skill0\n",
       "SQL, AWS, Machine Learning, Java        skill0\n",
       "...                                        ...\n",
       "Machine Learning, Java, AWS, SQL        skill9\n",
       "Machine Learning, C++, Java, SQL        skill9\n",
       "Java, SQL, C++, Python                  skill9\n",
       "Python, Machine Learning, C++, AWS      skill9\n",
       "C++, SQL, Java, React                   skill9\n",
       "\n",
       "[1559 rows x 1 columns]"
      ]
     },
     "execution_count": 12,
     "metadata": {},
     "output_type": "execute_result"
    }
   ],
   "source": [
    "skills_table['skill_group']=pd.cut(skills_table['Salary'],bins=10,labels=['skill0','skill1','skill2','skill3','skill4','skill5','skill6','skill7','skill8','skill9'])\n",
    "skills_table.drop(columns='Salary')"
   ]
  },
  {
   "cell_type": "code",
   "execution_count": 13,
   "metadata": {},
   "outputs": [
    {
     "name": "stdout",
     "output_type": "stream",
     "text": [
      "<class 'pandas.core.frame.DataFrame'>\n",
      "RangeIndex: 50000 entries, 0 to 49999\n",
      "Data columns (total 16 columns):\n",
      " #   Column                  Non-Null Count  Dtype  \n",
      "---  ------                  --------------  -----  \n",
      " 0   Company                 50000 non-null  object \n",
      " 1   Experience Level        50000 non-null  object \n",
      " 2   Salary                  50000 non-null  float64\n",
      " 3   Required Skills         50000 non-null  object \n",
      " 4   Location_Berlin         50000 non-null  bool   \n",
      " 5   Location_London         50000 non-null  bool   \n",
      " 6   Location_New York       50000 non-null  bool   \n",
      " 7   Location_San Francisco  50000 non-null  bool   \n",
      " 8   Location_Sydney         50000 non-null  bool   \n",
      " 9   Location_Toronto        50000 non-null  bool   \n",
      " 10  Industry_Finance        50000 non-null  bool   \n",
      " 11  Industry_Healthcare     50000 non-null  bool   \n",
      " 12  Industry_Manufacturing  50000 non-null  bool   \n",
      " 13  Industry_Marketing      50000 non-null  bool   \n",
      " 14  Industry_Retail         50000 non-null  bool   \n",
      " 15  Industry_Software       50000 non-null  bool   \n",
      "dtypes: bool(12), float64(1), object(3)\n",
      "memory usage: 2.1+ MB\n"
     ]
    }
   ],
   "source": [
    "data.info()"
   ]
  },
  {
   "cell_type": "markdown",
   "metadata": {},
   "source": [
    "data.head()"
   ]
  },
  {
   "cell_type": "code",
   "execution_count": 14,
   "metadata": {},
   "outputs": [],
   "source": [
    "data=pd.merge(data,company_table,left_on='Company',how='left',right_index=True)\n",
    "data=pd.merge(data,skills_table,left_on='Required Skills',how='left',right_index=True)"
   ]
  },
  {
   "cell_type": "code",
   "execution_count": 15,
   "metadata": {},
   "outputs": [],
   "source": [
    "data.drop(columns=['Company','Required Skills'],inplace=True)"
   ]
  },
  {
   "cell_type": "code",
   "execution_count": 16,
   "metadata": {},
   "outputs": [
    {
     "name": "stdout",
     "output_type": "stream",
     "text": [
      "<class 'pandas.core.frame.DataFrame'>\n",
      "RangeIndex: 50000 entries, 0 to 49999\n",
      "Data columns (total 18 columns):\n",
      " #   Column                  Non-Null Count  Dtype   \n",
      "---  ------                  --------------  -----   \n",
      " 0   Experience Level        50000 non-null  object  \n",
      " 1   Salary_x                50000 non-null  float64 \n",
      " 2   Location_Berlin         50000 non-null  bool    \n",
      " 3   Location_London         50000 non-null  bool    \n",
      " 4   Location_New York       50000 non-null  bool    \n",
      " 5   Location_San Francisco  50000 non-null  bool    \n",
      " 6   Location_Sydney         50000 non-null  bool    \n",
      " 7   Location_Toronto        50000 non-null  bool    \n",
      " 8   Industry_Finance        50000 non-null  bool    \n",
      " 9   Industry_Healthcare     50000 non-null  bool    \n",
      " 10  Industry_Manufacturing  50000 non-null  bool    \n",
      " 11  Industry_Marketing      50000 non-null  bool    \n",
      " 12  Industry_Retail         50000 non-null  bool    \n",
      " 13  Industry_Software       50000 non-null  bool    \n",
      " 14  Salary_y                50000 non-null  float64 \n",
      " 15  company_group           50000 non-null  category\n",
      " 16  Salary                  50000 non-null  float64 \n",
      " 17  skill_group             50000 non-null  category\n",
      "dtypes: bool(12), category(2), float64(3), object(1)\n",
      "memory usage: 2.2+ MB\n"
     ]
    }
   ],
   "source": [
    "data.info()"
   ]
  },
  {
   "cell_type": "code",
   "execution_count": 17,
   "metadata": {},
   "outputs": [],
   "source": [
    "data = pd.get_dummies(data, columns=['company_group','skill_group'], drop_first=True)"
   ]
  },
  {
   "cell_type": "code",
   "execution_count": 19,
   "metadata": {},
   "outputs": [],
   "source": [
    "data = pd.get_dummies(data, columns=['Experience Level'], drop_first=True)"
   ]
  },
  {
   "cell_type": "code",
   "execution_count": 21,
   "metadata": {},
   "outputs": [],
   "source": [
    "data.drop(columns=['Salary_x','Salary_y'],inplace=True)"
   ]
  },
  {
   "cell_type": "code",
   "execution_count": 22,
   "metadata": {},
   "outputs": [
    {
     "name": "stdout",
     "output_type": "stream",
     "text": [
      "<class 'pandas.core.frame.DataFrame'>\n",
      "RangeIndex: 50000 entries, 0 to 49999\n",
      "Data columns (total 33 columns):\n",
      " #   Column                         Non-Null Count  Dtype  \n",
      "---  ------                         --------------  -----  \n",
      " 0   Location_Berlin                50000 non-null  bool   \n",
      " 1   Location_London                50000 non-null  bool   \n",
      " 2   Location_New York              50000 non-null  bool   \n",
      " 3   Location_San Francisco         50000 non-null  bool   \n",
      " 4   Location_Sydney                50000 non-null  bool   \n",
      " 5   Location_Toronto               50000 non-null  bool   \n",
      " 6   Industry_Finance               50000 non-null  bool   \n",
      " 7   Industry_Healthcare            50000 non-null  bool   \n",
      " 8   Industry_Manufacturing         50000 non-null  bool   \n",
      " 9   Industry_Marketing             50000 non-null  bool   \n",
      " 10  Industry_Retail                50000 non-null  bool   \n",
      " 11  Industry_Software              50000 non-null  bool   \n",
      " 12  Salary                         50000 non-null  float64\n",
      " 13  company_group_company1         50000 non-null  bool   \n",
      " 14  company_group_company2         50000 non-null  bool   \n",
      " 15  company_group_company3         50000 non-null  bool   \n",
      " 16  company_group_company4         50000 non-null  bool   \n",
      " 17  company_group_company5         50000 non-null  bool   \n",
      " 18  company_group_company6         50000 non-null  bool   \n",
      " 19  company_group_company7         50000 non-null  bool   \n",
      " 20  company_group_company8         50000 non-null  bool   \n",
      " 21  company_group_company9         50000 non-null  bool   \n",
      " 22  skill_group_skill1             50000 non-null  bool   \n",
      " 23  skill_group_skill2             50000 non-null  bool   \n",
      " 24  skill_group_skill3             50000 non-null  bool   \n",
      " 25  skill_group_skill4             50000 non-null  bool   \n",
      " 26  skill_group_skill5             50000 non-null  bool   \n",
      " 27  skill_group_skill6             50000 non-null  bool   \n",
      " 28  skill_group_skill7             50000 non-null  bool   \n",
      " 29  skill_group_skill8             50000 non-null  bool   \n",
      " 30  skill_group_skill9             50000 non-null  bool   \n",
      " 31  Experience Level_Mid Level     50000 non-null  bool   \n",
      " 32  Experience Level_Senior Level  50000 non-null  bool   \n",
      "dtypes: bool(32), float64(1)\n",
      "memory usage: 1.9 MB\n"
     ]
    }
   ],
   "source": [
    "data.info()"
   ]
  },
  {
   "cell_type": "code",
   "execution_count": 64,
   "metadata": {},
   "outputs": [
    {
     "name": "stdout",
     "output_type": "stream",
     "text": [
      "RMSE: 5.1335924439872044e-11\n",
      "R^2 Score for the Linear Regression model: 1.000000000\n"
     ]
    }
   ],
   "source": [
    "from sklearn.model_selection import train_test_split\n",
    "from sklearn.linear_model import LinearRegression\n",
    "from sklearn.metrics import  mean_squared_error\n",
    "from sklearn.metrics import r2_score\n",
    "x = data.iloc[:, 0:32]  # Select all columns from 0 to 31\n",
    "y = data.iloc[:, 12]    # Select the target variable using iloc\n",
    "\n",
    "model = LinearRegression()\n",
    "x_train, x_test, y_train, y_test = train_test_split(x, y, test_size=0.3)\n",
    "model.fit(x_train, y_train)\n",
    "y_pred = model.predict(x_test)\n",
    "r2 = r2_score(y_test, y_pred)\n",
    "print('RMSE:', np.sqrt(mean_squared_error(y_test, y_pred)))\n",
    "#print('NRMSE:', (np.sqrt(mean_squared_error(y_test, y_pred)))/(maxi-mini))\n",
    "print(f\"R^2 Score for the Linear Regression model: {r2:.9f}\")"
   ]
  }
 ],
 "metadata": {
  "kernelspec": {
   "display_name": "base",
   "language": "python",
   "name": "python3"
  },
  "language_info": {
   "codemirror_mode": {
    "name": "ipython",
    "version": 3
   },
   "file_extension": ".py",
   "mimetype": "text/x-python",
   "name": "python",
   "nbconvert_exporter": "python",
   "pygments_lexer": "ipython3",
   "version": "3.12.4"
  }
 },
 "nbformat": 4,
 "nbformat_minor": 2
}
